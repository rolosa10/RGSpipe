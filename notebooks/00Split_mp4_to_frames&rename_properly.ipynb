{
 "cells": [
  {
   "cell_type": "markdown",
   "id": "af420439",
   "metadata": {},
   "source": [
    "How to proceed:\n",
    "\n",
    "1. Run the split video to frames cell\n",
    "2. Check the frames and annotate in \"reference_frame_number\" the frame number where it can be seen clearly the iPhone timestamp. Annotate the timestamp value too in the \"timestamp\" variable.\n",
    "3. Change the \"mocap_timestamp\" value with the corresponding one annotated in the \"cap\" file provided by QQ/Xavi.\n",
    "\n",
    "Frames previous to the mocap timestamp will be removed. In addition, we will have to remove manually the posterior frames where the actors stands up form the table."
   ]
  },
  {
   "cell_type": "markdown",
   "id": "9c248b51",
   "metadata": {},
   "source": [
    "### Imports"
   ]
  },
  {
   "cell_type": "code",
   "execution_count": 1,
   "id": "78d4482b",
   "metadata": {},
   "outputs": [],
   "source": [
    "import cv2\n",
    "import numpy as np\n",
    "import pandas as pd\n",
    "import os\n",
    "from glob import glob"
   ]
  },
  {
   "cell_type": "markdown",
   "id": "541436ea",
   "metadata": {},
   "source": [
    "### Variables"
   ]
  },
  {
   "cell_type": "code",
   "execution_count": 2,
   "id": "e56948bc",
   "metadata": {},
   "outputs": [],
   "source": [
    "#Video to split\n",
    "directory_name = '../data/Webcam/Xavi/Xavi05'\n",
    "video_file = directory_name+'/Xavi_Webcam20_05.mp4'"
   ]
  },
  {
   "cell_type": "markdown",
   "id": "70b78811",
   "metadata": {},
   "source": [
    "### Split video to frames"
   ]
  },
  {
   "cell_type": "code",
   "execution_count": 3,
   "id": "8e711113",
   "metadata": {},
   "outputs": [
    {
     "name": "stdout",
     "output_type": "stream",
     "text": [
      "Video has been splitted\n"
     ]
    }
   ],
   "source": [
    "cap = cv2.VideoCapture(video_file)\n",
    "\n",
    "#Number of frames of the recorded video\n",
    "length_frames = int(cap.get(cv2.CAP_PROP_FRAME_COUNT))\n",
    "\n",
    "#Number of frames\n",
    "n = 0\n",
    "\n",
    "\n",
    "while cap.isOpened():\n",
    "    try: \n",
    "        for i in range(0,length_frames):\n",
    "            sucess,frame = cap.read()\n",
    "            if i <10:\n",
    "                cv2.imwrite(directory_name+'/mp4_splitted/Frame_000'+str(i)+'.jpg', frame)\n",
    "            if 10 <= i < 100:\n",
    "                cv2.imwrite(directory_name+'/mp4_splitted/Frame_00'+str(i)+'.jpg', frame)\n",
    "            if 100 <=  i < 1000:\n",
    "                cv2.imwrite(directory_name+'/mp4_splitted/Frame_0'+str(i)+'.jpg', frame)\n",
    "            if i >= 1000:\n",
    "                 cv2.imwrite(directory_name+'/mp4_splitted/Frame_'+str(i)+'.jpg', frame)\n",
    "                \n",
    "    except:\n",
    "        print('Video has been splitted')\n",
    "        cap.release()\n"
   ]
  },
  {
   "cell_type": "markdown",
   "id": "e281d5f4",
   "metadata": {},
   "source": [
    "### More variables -- After splitting videofile"
   ]
  },
  {
   "cell_type": "code",
   "execution_count": 4,
   "id": "ed382aed",
   "metadata": {},
   "outputs": [],
   "source": [
    "### Values extracted manually from the generated frames ### \n",
    "#Frame where it can be seen clearly the iPhone timestamp\n",
    "\n",
    "reference_frame_number = 243\n",
    "\n",
    "#Timestamp seen in the reference_frame_number\n",
    "timestamp = 2.534\n",
    "\n",
    "#Annotated timestamp for that indicates exactly when the MOCAP setup starts running - Provided in a separate file\n",
    "with open(directory_name+'/Xavi_Cue05.txt') as f:\n",
    "    lines = f.readlines()\n",
    "mocap_timestamp = float(lines[0].split(' ')[-1])"
   ]
  },
  {
   "cell_type": "code",
   "execution_count": 5,
   "id": "a4bfa9dd",
   "metadata": {},
   "outputs": [
    {
     "data": {
      "text/plain": [
       "2138"
      ]
     },
     "execution_count": 5,
     "metadata": {},
     "output_type": "execute_result"
    }
   ],
   "source": [
    "length_frames"
   ]
  },
  {
   "cell_type": "code",
   "execution_count": 6,
   "id": "65b813cb",
   "metadata": {},
   "outputs": [
    {
     "data": {
      "text/plain": [
       "13.481"
      ]
     },
     "execution_count": 6,
     "metadata": {},
     "output_type": "execute_result"
    }
   ],
   "source": [
    "mocap_timestamp"
   ]
  },
  {
   "cell_type": "markdown",
   "id": "c889788b",
   "metadata": {},
   "source": [
    "### Rename frames to timestamp\n",
    "\n",
    "- Kinect is recording 30,71232876 f/s\n",
    "- 32,56268317 ms entre frames\n",
    "\n",
    "When frame split have been done, I manually observe the frames and look for one where the timestampe in the iphoen appear clearly.\n",
    "\n",
    "This frame will be renamed to frame_0_[timestamp] and the posterior ones will be renamed with a timestamp +32,56268317 ms\n"
   ]
  },
  {
   "cell_type": "code",
   "execution_count": 7,
   "id": "27b4d643",
   "metadata": {},
   "outputs": [],
   "source": [
    "frames = glob(directory_name+'/mp4_splitted/*')\n",
    "for frame in frames[reference_frame_number:]:    \n",
    "    os.rename(frame, frame.split('.jpg')[0]+'_'+str(timestamp)+'.jpg')\n",
    "    timestamp = timestamp + (1/28.49)"
   ]
  },
  {
   "cell_type": "markdown",
   "id": "0aa6ee03",
   "metadata": {},
   "source": [
    "### MOCAP starting time\n",
    "\n",
    "Xavi annotated the timestamp when the MOCAP recording started. This timestamp is registered with the same mobilephone that appears in the mp4. The annotated time is in a .txt file with the name of the video as an index.\n",
    "\n",
    "Objective: __Delete the frames previous to the mocap timestamp as they not provide any kind of useful information__"
   ]
  },
  {
   "cell_type": "code",
   "execution_count": 8,
   "id": "a2909412",
   "metadata": {},
   "outputs": [],
   "source": [
    "frames = glob(directory_name+'/mp4_splitted/*')"
   ]
  },
  {
   "cell_type": "code",
   "execution_count": 9,
   "id": "797c541d",
   "metadata": {},
   "outputs": [],
   "source": [
    "for frame in frames:\n",
    "    if len(frame.split('\\\\')[-1].split('_')) == 3 and float(frame.split('\\\\')[-1].split('_')[-1].split('.jpg')[0]) > mocap_timestamp:\n",
    "        pass\n",
    "    else:\n",
    "        os.remove(frame)"
   ]
  },
  {
   "cell_type": "markdown",
   "id": "ed598069",
   "metadata": {},
   "source": [
    "***Now manually delete the frames where the actor is not in the table***"
   ]
  }
 ],
 "metadata": {
  "kernelspec": {
   "display_name": "Python 3 (ipykernel)",
   "language": "python",
   "name": "python3"
  },
  "language_info": {
   "codemirror_mode": {
    "name": "ipython",
    "version": 3
   },
   "file_extension": ".py",
   "mimetype": "text/x-python",
   "name": "python",
   "nbconvert_exporter": "python",
   "pygments_lexer": "ipython3",
   "version": "3.7.10"
  }
 },
 "nbformat": 4,
 "nbformat_minor": 5
}
